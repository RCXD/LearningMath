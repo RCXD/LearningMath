{
 "metadata": {
  "language_info": {
   "codemirror_mode": {
    "name": "ipython",
    "version": 3
   },
   "file_extension": ".py",
   "mimetype": "text/x-python",
   "name": "python",
   "nbconvert_exporter": "python",
   "pygments_lexer": "ipython3",
   "version": 3
  },
  "orig_nbformat": 2
 },
 "nbformat": 4,
 "nbformat_minor": 2,
 "cells": [
  {
   "source": [
    "# Information\n",
    "## Chapter 8 : Vector Integral\n",
    "## 8-4 Green thorem on *flat plain(?)*\n"
   ],
   "cell_type": "markdown",
   "metadata": {}
  },
  {
   "source": [
    "## Formula\n",
    "$$"
   ],
   "cell_type": "markdown",
   "metadata": {}
  },
  {
   "source": [
    "## Theorems\n",
    "평면에서의 그린의 정리  \n",
    "조건...  \n",
    "$\\iint_{\\Omega} {\\left( \\frac{\\partial Q}{\\partial x} - \\frac{\\partial P}{\\partial y}dxdy \\right)} \n",
    "= \\oint_{C} \\left( P dx + Q dy \\right )$"
   ],
   "cell_type": "markdown",
   "metadata": {}
  },
  {
   "source": [
    "## Problems\n",
    "다음의 \\[1\\]~\\[3\\]에서 주어진 선적분을 Green의 정리를 이용하여 구하라. 단, 곡선의 방향은 반시계방향\n",
    "- \\[1\\] $\\oint_C y dx + x dy$, 정사각형 $0\\leq x \\leq a, 0 \\leq y \\leq a$.\n",
    "- \\[2\\] $\\oint_C x\\sin{y}dx - y\\sin{x}dy$, 직사각형 $0\\leq x \\leq \\pi, 0 \\leq y \\leq \\frac{\\pi}{2}$.\n",
    "- \\[3\\] $\\oint_C aydx + bxdy$를 임의의 폐곡선 $C$에 대하여 구하라."
   ],
   "cell_type": "markdown",
   "metadata": {}
  },
  {
   "source": [
    "## Step-by-Step Solution\n",
    "\n"
   ],
   "cell_type": "markdown",
   "metadata": {}
  }
 ]
}