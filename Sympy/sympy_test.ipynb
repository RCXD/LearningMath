{
 "cells": [
  {
   "cell_type": "code",
   "execution_count": 1,
   "id": "d0a70842",
   "metadata": {},
   "outputs": [],
   "source": [
    "from sympy import symbols, sin, cos, tan\n",
    "from sympy.physics.mechanics import *\n",
    "q1, q2, q3, u1, u2, u3=dynamicsymbols('q1 q2 q3 u1 u2 u3')\n",
    "q1d, q2d, q3d, u1d, u2d, u3d=dynamicsymbols('q1 q2 q3 u1 u2 u3', 1)\n",
    "r, m, g=symbols('r m g')\n",
    "mechanics_printing(pretty_print=True, use_unicode=True)\n",
    "\n",
    "N=ReferenceFrame('N')\n",
    "Y=N.orientnew('Y', 'Axis', [q1, N.x])\n",
    "L=Y.orientnew('L', 'Axis', [q2, Y.y])\n",
    "R=L.orientnew('R', 'Axis', [q3, L.z])\n",
    "w_R_N_qd=R.ang_vel_in(N)\n",
    "R.set_ang_vel(N, u1*L.x+u2*L.y+u3*L.z)\n"
   ]
  },
  {
   "cell_type": "code",
   "execution_count": 2,
   "id": "7b29fadb",
   "metadata": {},
   "outputs": [
    {
     "name": "stdout",
     "output_type": "stream",
     "text": [
      "r*u2*L.x - r*u1*L.y\n"
     ]
    },
    {
     "data": {
      "text/latex": [
       "$\\displaystyle r u_{2}\\mathbf{\\hat{l}_x} -  r u_{1}\\mathbf{\\hat{l}_y}$"
      ],
      "text/plain": [
       "r⋅u₂ l_x + -r⋅u₁ l_y"
      ]
     },
     "execution_count": 2,
     "metadata": {},
     "output_type": "execute_result"
    }
   ],
   "source": [
    "C=Point('C')\n",
    "C.set_vel(N, 0)\n",
    "Dmc=C.locatenew('Dmc', r*L.z)\n",
    "mprint(Dmc.v2pt_theory(C, N, R))\n",
    "Dmc.v2pt_theory(C, N, R)"
   ]
  },
  {
   "cell_type": "code",
   "execution_count": 3,
   "id": "85245ccd",
   "metadata": {},
   "outputs": [
    {
     "name": "stdout",
     "output_type": "stream",
     "text": [
      "m*r**2/4*(L.x|L.x) + m*r**2/2*(L.y|L.y) + m*r**2/4*(L.z|L.z)\n"
     ]
    },
    {
     "data": {
      "text/latex": [
       "$\\displaystyle \\frac{m r^{2}}{4}\\mathbf{\\hat{l}_x}\\otimes \\mathbf{\\hat{l}_x} + \\frac{m r^{2}}{2}\\mathbf{\\hat{l}_y}\\otimes \\mathbf{\\hat{l}_y} + \\frac{m r^{2}}{4}\\mathbf{\\hat{l}_z}\\otimes \\mathbf{\\hat{l}_z}$"
      ],
      "text/plain": [
       "   2\n",
       "m⋅r \n",
       "────\n",
       " 4   l_x⊗l_x +    2\n",
       "m⋅r \n",
       "────\n",
       " 2   l_y⊗l_y +    2\n",
       "m⋅r \n",
       "────\n",
       " 4   l_z⊗l_z"
      ]
     },
     "execution_count": 3,
     "metadata": {},
     "output_type": "execute_result"
    }
   ],
   "source": [
    "I=inertia(L, m/4*r**2, m/2*r**2, m/4*r**2)\n",
    "mprint(I)\n",
    "I"
   ]
  },
  {
   "cell_type": "code",
   "execution_count": 4,
   "id": "49e789cc",
   "metadata": {},
   "outputs": [
    {
     "name": "stdout",
     "output_type": "stream",
     "text": [
      "[u1 - cos(q2)*q1', u2 - q2', u3 - sin(q2)*q1' - q3']\n"
     ]
    },
    {
     "data": {
      "text/latex": [
       "$\\displaystyle \\left[ u_{1} - \\cos{\\left(q_{2} \\right)} \\dot{q}_{1}, \\  u_{2} - \\dot{q}_{2}, \\  u_{3} - \\sin{\\left(q_{2} \\right)} \\dot{q}_{1} - \\dot{q}_{3}\\right]$"
      ],
      "text/plain": [
       "[u₁ - cos(q₂)⋅q₁̇, u₂ - q₂̇, u₃ - sin(q₂)⋅q₁̇ - q₃̇]"
      ]
     },
     "execution_count": 4,
     "metadata": {},
     "output_type": "execute_result"
    }
   ],
   "source": [
    "kd=[dot(R.ang_vel_in(N)-w_R_N_qd, uv) for uv in L]\n",
    "mprint(kd)\n",
    "kd"
   ]
  },
  {
   "cell_type": "code",
   "execution_count": 5,
   "id": "aabaa1f1",
   "metadata": {},
   "outputs": [],
   "source": [
    "ForceList=[(Dmc, -m*g*Y.z)]\n",
    "BodyD=RigidBody('BodyD', Dmc, R, m, (I, Dmc))\n",
    "BodyList=[BodyD]"
   ]
  },
  {
   "cell_type": "code",
   "execution_count": 6,
   "id": "6979d400",
   "metadata": {},
   "outputs": [
    {
     "name": "stdout",
     "output_type": "stream",
     "text": [
      "Matrix([\n",
      "[                         (6*u1*tan(q2) - u3)*u2/5],\n",
      "[(4*g*sin(q2) - 5*r*u1**2*tan(q2) + r*u1*u3)/(6*r)],\n",
      "[                                           -u1*u2]])\n"
     ]
    },
    {
     "data": {
      "text/latex": [
       "$\\displaystyle \\left[\\begin{matrix}\\frac{\\left(6 u_{1} \\tan{\\left(q_{2} \\right)} - u_{3}\\right) u_{2}}{5}\\\\\\frac{4 g \\sin{\\left(q_{2} \\right)} - 5 r u_{1}^{2} \\tan{\\left(q_{2} \\right)} + r u_{1} u_{3}}{6 r}\\\\- u_{1} u_{2}\\end{matrix}\\right]$"
      ],
      "text/plain": [
       "⎡        (6⋅u₁⋅tan(q₂) - u₃)⋅u₂         ⎤\n",
       "⎢        ──────────────────────         ⎥\n",
       "⎢                  5                    ⎥\n",
       "⎢                                       ⎥\n",
       "⎢                    2                  ⎥\n",
       "⎢4⋅g⋅sin(q₂) - 5⋅r⋅u₁ ⋅tan(q₂) + r⋅u₁⋅u₃⎥\n",
       "⎢───────────────────────────────────────⎥\n",
       "⎢                  6⋅r                  ⎥\n",
       "⎢                                       ⎥\n",
       "⎣                -u₁⋅u₂                 ⎦"
      ]
     },
     "execution_count": 6,
     "metadata": {},
     "output_type": "execute_result"
    }
   ],
   "source": [
    "KM=KanesMethod(N, q_ind=[q1, q2, q3], u_ind=[u1, u2, u3], kd_eqs=kd)\n",
    "(fr, frstar)=KM.kanes_equations(BodyList, ForceList)\n",
    "MM=KM.mass_matrix\n",
    "forcing=KM.forcing\n",
    "rhs=MM.inv()*forcing\n",
    "kdd=KM.kindiffdict()\n",
    "rhs=rhs.subs(kdd)\n",
    "rhs.simplify()\n",
    "mprint(rhs)\n",
    "rhs"
   ]
  },
  {
   "cell_type": "code",
   "execution_count": null,
   "id": "bbdcd980",
   "metadata": {},
   "outputs": [],
   "source": []
  },
  {
   "cell_type": "code",
   "execution_count": null,
   "id": "542fc872",
   "metadata": {},
   "outputs": [],
   "source": []
  }
 ],
 "metadata": {
  "kernelspec": {
   "display_name": "Python 3",
   "language": "python",
   "name": "python3"
  },
  "language_info": {
   "codemirror_mode": {
    "name": "ipython",
    "version": 3
   },
   "file_extension": ".py",
   "mimetype": "text/x-python",
   "name": "python",
   "nbconvert_exporter": "python",
   "pygments_lexer": "ipython3",
   "version": "3.8.10"
  }
 },
 "nbformat": 4,
 "nbformat_minor": 5
}
