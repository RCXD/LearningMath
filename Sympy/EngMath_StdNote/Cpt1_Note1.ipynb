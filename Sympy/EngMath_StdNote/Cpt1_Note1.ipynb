{
 "cells": [
  {
   "cell_type": "markdown",
   "id": "01694b6e",
   "metadata": {},
   "source": [
    "함수의 미분 또는 도함수 (Derivative)를 포함하는 식을 미분방정식이라고 말한다. 자연계의 많은 현상들과 공학적으로 중요한 문제들에서 나타나는 법칙들은 대부분 미분방정식 형태로 주어진다. 따라서, 미분방정식을 올바르게 이해하고 응용하는 것은 매우 중요한 일이다. 이 장에서는 미분방정식과 관련된 기본적인 개념들을 설명하고 가장 간단한 1계 미분방정식의 종류와 해를 구하는 방법을 알아본다."
   ]
  },
  {
   "cell_type": "markdown",
   "id": "3549e48d",
   "metadata": {},
   "source": [
    "## 1-1. 기본 개념\n",
    "### 미분방정식의 정의.\n",
    "함수의 도함수(derivative)를 포함하는 방정식을 미분방정식이라고 한다. 예를 들어  \n",
    "$$\\frac{dy}{dx}=h(x)$$\n",
    "는 $y(x)$의 도함수를 포함하므로 미분방정식이고, 식 (1)로 주어진 미분방정식을 푼다는 것은 미분하여 h(x)가 되는 x의 함수 y(x)를 구하는 것이다. 이 장에서는 위와 같이 독립변수(independent variable)가 한 개인 상미분방정식(ordinary differential equation)만을 다루기로 하여, 독립변수가 둘 이상인 편미분방정식(partial differential equation)은 나중에 공부하기로 한다."
   ]
  },
  {
   "cell_type": "markdown",
   "id": "db50f63f",
   "metadata": {},
   "source": [
    "### 기본적인 용어.\n",
    "미분방정식에 포함된 도함수의 최고차를 미분방정식의 계(order) 또는 차수라고 한다. 일반적인 n계 미분방정식은 \n",
    "$$F\\left(x, y, \\frac{dy}{dx}, \\frac{{d^2}y}{dx^2}, ..., \\frac{{d^n}y}{dx^n}\\right)$$\n",
    "의 형태로 주어진다."
   ]
  },
  {
   "cell_type": "code",
   "execution_count": 1,
   "id": "15d5b461",
   "metadata": {},
   "outputs": [
    {
     "data": {
      "text/latex": [
       "$\\displaystyle F{\\left(x,y{\\left(x \\right)},\\frac{d}{d x} y{\\left(x \\right)},\\frac{d^{2}}{d x^{2}} y{\\left(x \\right)},...,\\frac{d^{2}}{d nd x} y{\\left(x \\right)} \\right)}$"
      ],
      "text/plain": [
       "F(x, y(x), Derivative(y(x), x), Derivative(y(x), (x, 2)), ..., Derivative(y(x), x, n))"
      ]
     },
     "execution_count": 1,
     "metadata": {},
     "output_type": "execute_result"
    }
   ],
   "source": [
    "from sympy import symbols, Function, Derivative\n",
    "x = symbols('x')\n",
    "y = Function('y')(x)\n",
    "n = symbols('n', integer=True)\n",
    "ellipsis=symbols('...')\n",
    "\n",
    "F = Function('F')(x, y, Derivative(y, x), Derivative(y, x, 2), ellipsis, Derivative(y, x, n))\n",
    "F"
   ]
  },
  {
   "cell_type": "code",
   "execution_count": null,
   "id": "5ef6c93e",
   "metadata": {},
   "outputs": [],
   "source": []
  }
 ],
 "metadata": {
  "kernelspec": {
   "display_name": "Python 3",
   "language": "python",
   "name": "python3"
  },
  "language_info": {
   "codemirror_mode": {
    "name": "ipython",
    "version": 3
   },
   "file_extension": ".py",
   "mimetype": "text/x-python",
   "name": "python",
   "nbconvert_exporter": "python",
   "pygments_lexer": "ipython3",
   "version": "3.8.10"
  }
 },
 "nbformat": 4,
 "nbformat_minor": 5
}
